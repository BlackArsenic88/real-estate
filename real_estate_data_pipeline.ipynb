{
 "cells": [
  {
   "cell_type": "code",
   "execution_count": null,
   "id": "9bc903a7",
   "metadata": {},
   "outputs": [],
   "source": [
    "# Data pipeline \n",
    "import pandas as pd\n",
    "from sklearn.model_selection import train_test_split\n",
    "from sklearn.compose import ColumnTransformer\n",
    "from sklearn.preprocessing import OneHotEncoder\n",
    "from sklearn.linear_model import LinearRegression\n",
    "from sklearn.pipeline import Pipeline\n",
    "\n",
    "df = pd.read_csv(\"AmesHousing.csv\")\n",
    "X = df[['Neighborhood', 'Lot Area', 'Year Built', 'Gr Liv Area']]\n",
    "y = df['SalePrice']\n",
    "\n",
    "categorical = ['Neighborhood']\n",
    "numeric = ['Lot Area', 'Year Built', 'Gr Liv Area']\n",
    "\n",
    "# Preprocessing: OHE for categorical, passthrough for numeric\n",
    "preprocessor = ColumnTransformer(\n",
    "    transformers=[\n",
    "        ('cat', OneHotEncoder(handle_unknown='ignore'), categorical),\n",
    "        ('num', 'passthrough', numeric)\n",
    "    ]\n",
    ")\n",
    "\n",
    "# Full pipeline\n",
    "mlr = Pipeline(steps=[\n",
    "    ('preprocessor', preprocessor),\n",
    "    ('regressor', LinearRegression())\n",
    "])\n",
    "\n",
    "# Train/test split\n",
    "X_train, X_test, y_train, y_test = train_test_split(X, y, test_size=0.2, random_state=42)\n",
    "\n",
    "# Fit\n",
    "mlr.fit(X_train, y_train)\n",
    "\n",
    "print(\"Training accuracy (R²): \", f\"{mlr.score(X_train, y_train)*100:,.2f}%\")\n",
    "print(\"Test accuracy (R²): \", f\"{mlr.score(X_test, y_test)*100:,.2f}%\")\n",
    "\n",
    "# User input\n",
    "neighborhood = input(\"Enter neighborhood (e.g., ClearCr, NWAmes, Veenker): \")\n",
    "lot_area = input(\"Enter lot area (e.g., 3000, 5000, 7000): \")\n",
    "year_built = input(\"Enter year built (e.g., 1925, 1975, 2025): \")\n",
    "gr_liv_area = input(\"Enter square feet of the house (e.g., 1000, 2000, 3000): \")\n",
    "\n",
    "# Selling price prediction\n",
    "open_house = pd.DataFrame([{\n",
    "    'Neighborhood': neighborhood,\n",
    "    'Lot Area': lot_area,\n",
    "    'Year Built': year_built,\n",
    "    'Gr Liv Area': gr_liv_area\n",
    "}])\n",
    "\n",
    "prediction = mlr.predict(open_house)[0]\n",
    "print(\"Predicted price:\", f\"${prediction:,.2f}\")"
   ]
  }
 ],
 "metadata": {
  "kernelspec": {
   "display_name": "Python 3",
   "language": "python",
   "name": "python3"
  },
  "language_info": {
   "codemirror_mode": {
    "name": "ipython",
    "version": 3
   },
   "file_extension": ".py",
   "mimetype": "text/x-python",
   "name": "python",
   "nbconvert_exporter": "python",
   "pygments_lexer": "ipython3",
   "version": "3.13.5"
  }
 },
 "nbformat": 4,
 "nbformat_minor": 5
}
