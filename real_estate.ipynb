{
 "cells": [
  {
   "cell_type": "markdown",
   "id": "8dfb1f77",
   "metadata": {},
   "source": [
    "# Real Estate Prices\n",
    "The purpose of this machine learning model is to predict fair market prices for real estate sales and rentals based. "
   ]
  },
  {
   "cell_type": "code",
   "execution_count": null,
   "id": "2f4054b8",
   "metadata": {},
   "outputs": [],
   "source": [
    "sales_features = ['address', 'city', 'state', 'zip_code', 'latitude', 'longitude', 'acres', 'lot_size', 'square_feet', 'building_age', ['amenities'], ['schools'], ['universities']]\n",
    "selling_price = []\n"
   ]
  },
  {
   "cell_type": "code",
   "execution_count": null,
   "id": "bdde6fd0",
   "metadata": {},
   "outputs": [],
   "source": [
    "income_features = ['revenue', 'salaries & fees', 'property_taxes', 'insurance', 'repairs_and_maintenance']\n",
    "income_based_valuation = []"
   ]
  },
  {
   "cell_type": "code",
   "execution_count": null,
   "id": "381b3458",
   "metadata": {},
   "outputs": [],
   "source": [
    "rent_features = ['square_feet', 'bedrooms', 'bathrooms', 'building_age']\n",
    "rent = []"
   ]
  }
 ],
 "metadata": {
  "kernelspec": {
   "display_name": "Python 3",
   "language": "python",
   "name": "python3"
  },
  "language_info": {
   "codemirror_mode": {
    "name": "ipython",
    "version": 3
   },
   "file_extension": ".py",
   "mimetype": "text/x-python",
   "name": "python",
   "nbconvert_exporter": "python",
   "pygments_lexer": "ipython3",
   "version": "3.13.5"
  }
 },
 "nbformat": 4,
 "nbformat_minor": 5
}
