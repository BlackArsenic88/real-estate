{
 "cells": [
  {
   "cell_type": "markdown",
   "id": "8dfb1f77",
   "metadata": {},
   "source": [
    "# Real Estate Prices\n",
    "The purpose of this machine learning model is to predict fair market prices for real estate sales. "
   ]
  },
  {
   "cell_type": "code",
   "execution_count": null,
   "id": "5cbfa573",
   "metadata": {},
   "outputs": [],
   "source": [
    "import pandas as pd\n",
    "import matplotlib.pyplot as plt\n",
    "from sklearn.model_selection import train_test_split\n",
    "from sklearn.linear_model import LinearRegression"
   ]
  },
  {
   "cell_type": "code",
   "execution_count": null,
   "id": "2f4054b8",
   "metadata": {},
   "outputs": [],
   "source": [
    "df = pd.read_csv(\"AmesHousing.csv\")\n",
    "\n",
    "# Data exploration \n",
    "print(df.head())\n",
    "print(df.info())\n",
    "print(df.columns)"
   ]
  },
  {
   "cell_type": "code",
   "execution_count": null,
   "id": "109a5365",
   "metadata": {},
   "outputs": [],
   "source": [
    "# One-hot encode one column for each neighborhood and rejoin to dataframe \n",
    "ohe = pd.get_dummies(df['Neighborhood'], prefix=\"Neighborhood\")\n",
    "\n",
    "# Dimensionality reduction to 4 critical factors \n",
    "X = df[['Lot Area', 'Year Built', 'Gr Liv Area']]\n",
    "X = X.join(ohe)\n",
    "\n",
    "y = df['SalePrice']\n",
    "\n",
    "print(X.columns)"
   ]
  },
  {
   "cell_type": "code",
   "execution_count": null,
   "id": "f4cf07cb",
   "metadata": {},
   "outputs": [],
   "source": [
    "#Training data v Test data\n",
    "X_train, X_test, y_train, y_test = train_test_split(X, y, train_size=0.8, test_size=0.2, random_state=32)"
   ]
  },
  {
   "cell_type": "code",
   "execution_count": null,
   "id": "0fe1e6df",
   "metadata": {},
   "outputs": [],
   "source": [
    "# Creates a LinearRegression model,\n",
    "mlr = LinearRegression()"
   ]
  },
  {
   "cell_type": "code",
   "execution_count": null,
   "id": "d5d2d01e",
   "metadata": {},
   "outputs": [],
   "source": [
    "# Finds the coefficients(m) and the intercept value(b)\n",
    "mlr.fit(X_train, y_train)"
   ]
  },
  {
   "cell_type": "code",
   "execution_count": null,
   "id": "e785b0fb",
   "metadata": {},
   "outputs": [],
   "source": [
    "# Inputs values calculated by `.fit()` and the `x` values, plugs them into the multiple linear regression equation, and calculates the predicted y values.\n",
    "y_predict = mlr.predict(X_test)"
   ]
  },
  {
   "cell_type": "code",
   "execution_count": null,
   "id": "1496d45f",
   "metadata": {},
   "outputs": [],
   "source": [
    "# Model \n",
    "# Housing features to see a fair market price\n",
    "\n",
    "features = [\n",
    "    'Lot Area', 'Year Built', 'Gr Liv Area',\n",
    "    'Neighborhood_Blmngtn', 'Neighborhood_Blueste', 'Neighborhood_BrDale',\n",
    "    'Neighborhood_BrkSide', 'Neighborhood_ClearCr', 'Neighborhood_CollgCr',\n",
    "    'Neighborhood_Crawfor', 'Neighborhood_Edwards', 'Neighborhood_Gilbert',\n",
    "    'Neighborhood_Greens', 'Neighborhood_GrnHill', 'Neighborhood_IDOTRR',\n",
    "    'Neighborhood_Landmrk', 'Neighborhood_MeadowV', 'Neighborhood_Mitchel',\n",
    "    'Neighborhood_NAmes', 'Neighborhood_NPkVill', 'Neighborhood_NWAmes',\n",
    "    'Neighborhood_NoRidge', 'Neighborhood_NridgHt', 'Neighborhood_OldTown',\n",
    "    'Neighborhood_SWISU', 'Neighborhood_Sawyer', 'Neighborhood_SawyerW',\n",
    "    'Neighborhood_Somerst', 'Neighborhood_StoneBr', 'Neighborhood_Timber',\n",
    "    'Neighborhood_Veenker'\n",
    "]\n",
    "\n",
    "# Ask user for input\n",
    "neighborhood = input(\"Enter neighborhood (e.g., ClearCr, NWAmes, Veenker): \")\n",
    "lot_area = input(\"Enter lot area (e.g., 3000, 5000, 7000): \")\n",
    "year_built = input(\"Enter year built (e.g., 1925, 1975, 2025): \")\n",
    "gr_liv_area = input(\"Enter square feet of the house (e.g., 1000, 2000, 3000): \")\n",
    "\n",
    "# Build a dataframe with zeros\n",
    "row = pd.DataFrame([[0] * len(features)], columns=features)\n",
    "\n",
    "# Fill numeric features\n",
    "row.loc[0, 'Lot Area'] = int(lot_area)\n",
    "row.loc[0, 'Year Built'] = int(year_built)\n",
    "row.loc[0, 'Gr Liv Area'] = int(gr_liv_area)\n",
    "\n",
    "# Activate the correct one-hot neighborhood\n",
    "col_name = f'Neighborhood_{neighborhood}'\n",
    "if col_name in row.columns:\n",
    "    row.loc[0, col_name] = 1\n",
    "else:\n",
    "    print(f\"Warning: {neighborhood} not a valid neighborhood\")\n",
    "\n",
    "# Predict\n",
    "prediction = mlr.predict(row)[0]\n",
    "print(\"Predicted price: \" f\"${prediction:,.2f}\")"
   ]
  },
  {
   "cell_type": "code",
   "execution_count": null,
   "id": "97a7394d",
   "metadata": {},
   "outputs": [],
   "source": [
    "# Evaluation \n",
    "print(\"Train score:\", f\"{mlr.score(X_train, y_train)*100:,.2f}%\")\n",
    "print(\"Test score:\", f\"{mlr.score(X_test, y_test)*100:,.2f}%\")"
   ]
  }
 ],
 "metadata": {
  "kernelspec": {
   "display_name": "Python 3",
   "language": "python",
   "name": "python3"
  },
  "language_info": {
   "codemirror_mode": {
    "name": "ipython",
    "version": 3
   },
   "file_extension": ".py",
   "mimetype": "text/x-python",
   "name": "python",
   "nbconvert_exporter": "python",
   "pygments_lexer": "ipython3",
   "version": "3.13.5"
  }
 },
 "nbformat": 4,
 "nbformat_minor": 5
}
